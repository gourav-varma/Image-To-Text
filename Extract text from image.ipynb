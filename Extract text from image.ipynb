{
 "cells": [
  {
   "cell_type": "code",
   "execution_count": null,
   "metadata": {},
   "outputs": [],
   "source": [
    "# importing packages\n",
    "import pytesseract\n",
    "from PIL import Image\n",
    "import googletrans\n",
    "from googletrans import Translator\n",
    "\n",
    "# install the pytesseract ocr files from google\n",
    "# import pytesseract ocr files from local storage\n",
    "PATH = r\"C:\\Program Files\\Tesseract-OCR\\tesseract.exe\"\n",
    "pytesseract.pytesseract.tesseract_cmd=PATH\n",
    "\n",
    "# import google translator\n",
    "trans = Translator()"
   ]
  },
  {
   "cell_type": "code",
   "execution_count": null,
   "metadata": {},
   "outputs": [],
   "source": [
    "# adding the test image path\n",
    "IMG_PATH = r'C:\\Users\\goura\\Desktop\\minor project\\test\\test2.jfif'\n",
    "\n",
    "img = Image.open(IMG_PATH)\n",
    "display(img)"
   ]
  },
  {
   "cell_type": "code",
   "execution_count": null,
   "metadata": {
    "scrolled": true
   },
   "outputs": [],
   "source": [
    "# pytesseract output without any additional operations\n",
    "\n",
    "text = pytesseract.image_to_string(img)\n",
    "print(text)"
   ]
  },
  {
   "cell_type": "code",
   "execution_count": null,
   "metadata": {
    "scrolled": true
   },
   "outputs": [],
   "source": [
    "import PIL\n",
    "# pytesseract output after suitable resizing of the image\n",
    "\n",
    "basewidth = 700\n",
    "wpercent = (basewidth/float(img.size[0]))\n",
    "hsize = int((float(img.size[1]*float(wpercent))))\n",
    "img1 = img.resize((basewidth, hsize), PIL.Image.ANTIALIAS)\n",
    "display(img1)\n",
    "text1 = pytesseract.image_to_string(img1)\n",
    "print(text1)"
   ]
  },
  {
   "cell_type": "code",
   "execution_count": null,
   "metadata": {},
   "outputs": [],
   "source": [
    "# pytesseract output after converstion of the image to greyscale\n",
    "\n",
    "img2 = img.convert('L')\n",
    "text2 = pytesseract.image_to_string(img2)\n",
    "display(img2)\n",
    "print(text2)"
   ]
  },
  {
   "cell_type": "code",
   "execution_count": null,
   "metadata": {},
   "outputs": [],
   "source": [
    "# pytesseract output after binarization of the image\n",
    "\n",
    "# Binarization is the method of converting any gray – scale image (multi tone image) into \n",
    "# black – white image (two tone image).\n",
    "\n",
    "img3 = img.convert('1')\n",
    "display(img3)\n",
    "text3 = pytesseract.image_to_string(img3)\n",
    "print(text3)"
   ]
  },
  {
   "cell_type": "code",
   "execution_count": null,
   "metadata": {},
   "outputs": [],
   "source": [
    "# process of binarizing the image\n",
    "def binarize(image,threshold):\n",
    "    output_image = image.convert('L')\n",
    "    \n",
    "    for x in range(output_image.width):\n",
    "        for y in range(output_image.height):\n",
    "            if output_image.getpixel((x,y))< threshold:\n",
    "                output_image.putpixel((x,y),0)\n",
    "            else:\n",
    "                output_image.putpixel((x,y),255)\n",
    "    return output_image\n",
    "\n",
    "for thresh in range(0,255,64):\n",
    "    print(\"trying with thershold: \" + str(thresh))\n",
    "    \n",
    "    display(binarize(img, thresh))\n",
    "    \n",
    "    print(pytesseract.image_to_string(binarize(img, thresh)))\n",
    "    \n"
   ]
  },
  {
   "cell_type": "code",
   "execution_count": null,
   "metadata": {
    "scrolled": false
   },
   "outputs": [],
   "source": [
    "# Translating to other languages\n",
    "# Note: the extracted text must be very accurate to be able to complete translation successfully\n",
    "def translate(texts,src,dest):\n",
    "    t = trans.translate(texts,src = src,dest = dest)\n",
    "    print(f'Source: {t.src}')\n",
    "    print(f'Destination: {t.dest}')\n",
    "    print(f'{t.origin} ->\\n{t.text}')\n",
    "\n",
    "display(img)\n",
    "    \n",
    "try:\n",
    "    translate(text,'en','hi')\n",
    "    print(\"translated output of direct implementation of pytesseract image to string method\")\n",
    "except:\n",
    "    print(\"Translatable text could not be extracted from direct implementation\")\n",
    "    \n",
    "try:\n",
    "    translate(text1,'en','hi')\n",
    "    print(\"\\ntranslated output of implementation of pytesseract after suitable resizing of the image\")\n",
    "except:\n",
    "    print(\"Translatable text could not be extracted after resizing\")\n",
    "    \n",
    "try:\n",
    "    translate(text2,'en','hi')\n",
    "    print(\"\\ntranslated output of implementaion of pytesseract after conversion of image to greyscale\")\n",
    "except:\n",
    "    print(\"Translatable text could not be extracted from greyscale\")\n",
    "    \n",
    "try:\n",
    "    translate(text3,'en','hi')\n",
    "    print(\"\\ntranslated output of implementaion of pytesseract after binarization of image\")\n",
    "except:\n",
    "    print(\"Translatable text could not be extracted from binarization\")\n"
   ]
  },
  {
   "cell_type": "code",
   "execution_count": null,
   "metadata": {},
   "outputs": [],
   "source": []
  }
 ],
 "metadata": {
  "kernelspec": {
   "display_name": "Python 3",
   "language": "python",
   "name": "python3"
  },
  "language_info": {
   "codemirror_mode": {
    "name": "ipython",
    "version": 3
   },
   "file_extension": ".py",
   "mimetype": "text/x-python",
   "name": "python",
   "nbconvert_exporter": "python",
   "pygments_lexer": "ipython3",
   "version": "3.7.6"
  }
 },
 "nbformat": 4,
 "nbformat_minor": 4
}
